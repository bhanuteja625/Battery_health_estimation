{
 "cells": [
  {
   "cell_type": "code",
   "execution_count": 1,
   "metadata": {},
   "outputs": [],
   "source": [
    "import numpy as np\n",
    "from numpy import ravel\n",
    "import pandas as pd\n",
    "import glob \n",
    "import scipy\n",
    "import matplotlib.pyplot as plt\n",
    "from scipy import signal\n",
    "import natsort "
   ]
  },
  {
   "cell_type": "code",
   "execution_count": 2,
   "metadata": {},
   "outputs": [],
   "source": [
    "path = 'G:/SOH_estimation/Published/'\n",
    "charge05 = natsort.natsorted(glob.glob(path+'charge05/*.csv'),reverse=False)\n",
    "charge06 = natsort.natsorted(glob.glob(path+'charge06/*.csv'),reverse=False)\n",
    "charge07 = natsort.natsorted(glob.glob(path+'charge07/*.csv'),reverse=False)\n",
    "charge18 = natsort.natsorted(glob.glob(path+'charge18/*.csv'),reverse=False)\n",
    "charge53 = natsort.natsorted(glob.glob(path+'charge53/*.csv'),reverse=False)\n",
    "charge54 = natsort.natsorted(glob.glob(path+'charge54/*.csv'),reverse=False)\n",
    "charge55 = natsort.natsorted(glob.glob(path+'charge55/*.csv'),reverse=False)\n",
    "charge56 = natsort.natsorted(glob.glob(path+'charge56/*.csv'),reverse=False)\n",
    "discharge05 = natsort.natsorted(glob.glob(path+'discharge05/*.csv'),reverse=False)\n",
    "discharge06 = natsort.natsorted(glob.glob(path+'discharge06/*.csv'),reverse=False)\n",
    "discharge07 = natsort.natsorted(glob.glob(path+'discharge07/*.csv'),reverse=False)\n",
    "discharge18 = natsort.natsorted(glob.glob(path+'discharge18/*.csv'),reverse=False)\n",
    "discharge53 = natsort.natsorted(glob.glob(path+'discharge53/*.csv'),reverse=False)\n",
    "discharge54 = natsort.natsorted(glob.glob(path+'discharge54/*.csv'),reverse=False)\n",
    "discharge55 = natsort.natsorted(glob.glob(path+'discharge55/*.csv'),reverse=False)\n",
    "discharge56 = natsort.natsorted(glob.glob(path+'discharge56/*.csv'),reverse=False)\n"
   ]
  },
  {
   "cell_type": "code",
   "execution_count": 3,
   "metadata": {},
   "outputs": [],
   "source": [
    "def resample(data):\n",
    "    downsampled_data = scipy.signal.resample(data, 20, axis=0)\n",
    "    return downsampled_data\n",
    "\n",
    "def scale(x, max_arr, min_arr, out_range=(-1.0, 1.0)):\n",
    "    emp = np.empty(x.shape)\n",
    "    for i in range(x.shape[1]):\n",
    "        domain = max_arr[i], min_arr[i]\n",
    "        y = (x[:,i] - (domain[1] + domain[0]) / 2) / (domain[1] - domain[0])\n",
    "        emp[:,i] = y * (out_range[1] - out_range[0]) + (out_range[1] + out_range[0]) / 2\n",
    "    return emp\n",
    "    \n",
    "def check_nan(data, y):\n",
    "    data = np.array(data, dtype=float)\n",
    "    y = np.array(y, dtype=float)\n",
    "    not_null = ~np.isnan(data).any(axis=2)\n",
    "    data1 = data[not_null,:]\n",
    "    data1 = np.reshape(data1, (int(data1.shape[0]/20),20,12))\n",
    "    not_null = [False if False in i else True for i in ~np.isnan(data).any(axis=2)]\n",
    "    y1 = y[not_null]\n",
    "    return data1, y1\n",
    "\n",
    "\n",
    "def dataReader(charge_path, discharge_path):\n",
    "    data_n = np.empty((1,20, 12), dtype=object)\n",
    "    y_n = np.empty((1,1), dtype=object)\n",
    "    max_arr = [4.37333112e+00, 1.66690126e+00, 3.14417117e+01, 1.65778686e+00, 5.62910436e+00, 1.12503468e+04, 4.06791213e+00, 3.41170830e-01, 4.31502666e+01, 2.27654755e+00, 3.34093685e+00, 3.84572280e+03]\n",
    "    min_arr = [ 3.58278925e+00, -1.42228262e-01,  3.87019685e+00, -1.40117317e-01, -8.09534168e-01, -8.08275532e+02,  1.98507963e+00, -2.29147162e+00, 3.60645170e+00, -2.26602563e+00, -4.38033642e-01, -1.37994647e+02]\n",
    "\n",
    "    for i in range(len(charge_path)):\n",
    "            \n",
    "            load_charge = pd.read_csv(charge_path[i],header=None)\n",
    "            #load_charge = load_charge[load_charge.iloc[:,1]>0]\n",
    "            charge_data = resample(load_charge)\n",
    "            charge_data = scale(charge_data, max_arr[:6],min_arr[:6])\n",
    "            charge_data = np.reshape(charge_data, (1,20,6), order = 'F')\n",
    "            \n",
    "            load_discharge = pd.read_csv(discharge_path[i], header=None)\n",
    "            #load_discharge = load_discharge[load_discharge.iloc[:,1]>0]\n",
    "            discharge_data = load_discharge.iloc[:,0:6]\n",
    "            discharge_data = resample(discharge_data)\n",
    "            discharge_data = scale(discharge_data, max_arr[6:],min_arr[6:])\n",
    "            #print(discharge_data.shape)\n",
    "            discharge_data = np.reshape(discharge_data, (1,20,6), order = 'F')\n",
    "            \n",
    "            processed_data = np.concatenate((charge_data, discharge_data), axis=2)\n",
    "        \n",
    "            data_n = np.concatenate((data_n, processed_data), axis=0)\n",
    "            \n",
    "            y = np.array([load_discharge.iloc[0,6]])\n",
    "\n",
    "            y = np.reshape(y, (1,1))\n",
    "            y_n = np.concatenate((y_n, y), axis=0)\n",
    "\n",
    "    return check_nan(data_n[1:], y_n[1:])"
   ]
  },
  {
   "cell_type": "code",
   "execution_count": 4,
   "metadata": {},
   "outputs": [],
   "source": [
    "data05, y05 = dataReader(charge05, discharge05)\n",
    "data06, y06 = dataReader(charge06, discharge06)\n",
    "data07, y07 = dataReader(charge07, discharge07)\n",
    "data18, y18 = dataReader(charge18, discharge18)\n",
    "data53, y53 = dataReader(charge53, discharge53)\n",
    "data54, y54 = dataReader(charge54, discharge54)\n",
    "data55, y55 = dataReader(charge55, discharge55)\n",
    "data56, y56 = dataReader(charge56, discharge56)\n",
    "\n",
    "data = np.concatenate((data05,data06,data07,data18,data53,data54,data55,data56),axis=0)\n",
    "y = np.concatenate((y05,y06,y07,y18,y53,y54,y55,y56), axis=0)"
   ]
  },
  {
   "cell_type": "code",
   "execution_count": 5,
   "metadata": {},
   "outputs": [
    {
     "name": "stdout",
     "output_type": "stream",
     "text": [
      "(996, 20, 12)\n",
      "(996, 1)\n"
     ]
    }
   ],
   "source": [
    "data = np.array(data, dtype=float)\n",
    "y = np.array(y, dtype=float)\n",
    "print(data.shape)\n",
    "print(y.shape)"
   ]
  },
  {
   "cell_type": "code",
   "execution_count": 6,
   "metadata": {},
   "outputs": [],
   "source": [
    "from sklearn.model_selection import train_test_split\n",
    "\n",
    "import tensorflow as tf\n",
    "from tensorflow.keras import backend as K\n",
    "from tensorflow.keras import Sequential\n",
    "from tensorflow.keras.layers import Dense, Dropout, LSTM, SimpleRNN, GRU, Conv1D, Flatten\n",
    "from tensorflow.keras.optimizers import Adam\n",
    "from tensorflow.keras.losses import mean_squared_error as mse\n",
    "from tensorflow.keras.callbacks import EarlyStopping"
   ]
  },
  {
   "cell_type": "code",
   "execution_count": 7,
   "metadata": {},
   "outputs": [
    {
     "name": "stdout",
     "output_type": "stream",
     "text": [
      "(796, 20, 12)\n",
      "(796, 1)\n",
      "(200, 20, 12)\n",
      "(200, 1)\n",
      "(796, 240)\n",
      "(200, 240)\n"
     ]
    }
   ],
   "source": [
    "X_train, X_test, y_train, y_test = train_test_split(data, y, test_size=0.2, shuffle=True)\n",
    "print(X_train.shape)\n",
    "print(y_train.shape)\n",
    "print(X_test.shape)\n",
    "print(y_test.shape)\n",
    "X_train_dnn = np.reshape(X_train, (X_train.shape[0],X_train.shape[1]*X_train.shape[2]))\n",
    "X_test_dnn = np.reshape(X_test, (X_test.shape[0],X_test.shape[1]*X_test.shape[2]))\n",
    "print(X_train_dnn.shape)\n",
    "print(X_test_dnn.shape)"
   ]
  },
  {
   "cell_type": "code",
   "execution_count": 8,
   "metadata": {},
   "outputs": [],
   "source": [
    "#DNN MODEL\n",
    "\n",
    "model_dnn = Sequential()\n",
    "model_dnn.add(Dense(256, activation='relu', input_shape=(240,),kernel_initializer='random_uniform'))\n",
    "#model_dnn.add(Dense(256, activation='relu',kernel_initializer='random_uniform'))\n",
    "model_dnn.add(Dense(128, activation='relu',kernel_initializer='random_uniform'))\n",
    "#model_dnn.add(Dense(64, activation='relu',kernel_initializer='random_uniform'))\n",
    "model_dnn.add(Dense(32, activation='relu',kernel_initializer='random_uniform'))\n",
    "model_dnn.add(Dense(16, activation='relu',kernel_initializer='random_uniform'))\n",
    "model_dnn.add(Dense(1, kernel_initializer='random_uniform'))"
   ]
  },
  {
   "cell_type": "code",
   "execution_count": 9,
   "metadata": {},
   "outputs": [],
   "source": [
    "def rmse(y_true, y_pred):\n",
    "    return K.sqrt(K.mean(K.square(y_pred - y_true)))"
   ]
  },
  {
   "cell_type": "code",
   "execution_count": 13,
   "metadata": {},
   "outputs": [
    {
     "name": "stdout",
     "output_type": "stream",
     "text": [
      "Epoch 1/100\n",
      "25/25 [==============================] - 0s 2ms/step - loss: 0.0083 - rmse: 0.0083\n",
      "Epoch 2/100\n",
      "25/25 [==============================] - 0s 2ms/step - loss: 0.0081 - rmse: 0.0081\n",
      "Epoch 3/100\n",
      "25/25 [==============================] - 0s 2ms/step - loss: 0.0080 - rmse: 0.0080\n",
      "Epoch 4/100\n",
      "25/25 [==============================] - 0s 2ms/step - loss: 0.0081 - rmse: 0.0082\n",
      "Epoch 5/100\n",
      "25/25 [==============================] - 0s 2ms/step - loss: 0.0082 - rmse: 0.0082\n",
      "Epoch 6/100\n",
      "25/25 [==============================] - 0s 2ms/step - loss: 0.0081 - rmse: 0.0081\n",
      "Epoch 7/100\n",
      "25/25 [==============================] - 0s 2ms/step - loss: 0.0083 - rmse: 0.0083\n",
      "Epoch 8/100\n",
      "25/25 [==============================] - 0s 2ms/step - loss: 0.0084 - rmse: 0.0084\n",
      "Epoch 9/100\n",
      "25/25 [==============================] - 0s 2ms/step - loss: 0.0080 - rmse: 0.0080\n",
      "Epoch 10/100\n",
      "25/25 [==============================] - 0s 2ms/step - loss: 0.0081 - rmse: 0.0081\n",
      "Epoch 11/100\n",
      "25/25 [==============================] - 0s 3ms/step - loss: 0.0081 - rmse: 0.0081\n",
      "Epoch 12/100\n",
      "25/25 [==============================] - 0s 3ms/step - loss: 0.0083 - rmse: 0.0083\n",
      "Epoch 13/100\n",
      "25/25 [==============================] - 0s 4ms/step - loss: 0.0081 - rmse: 0.0081\n",
      "Epoch 14/100\n",
      "25/25 [==============================] - 0s 2ms/step - loss: 0.0081 - rmse: 0.0081\n",
      "Epoch 15/100\n",
      "25/25 [==============================] - 0s 2ms/step - loss: 0.0080 - rmse: 0.0080\n",
      "Epoch 16/100\n",
      "25/25 [==============================] - 0s 2ms/step - loss: 0.0082 - rmse: 0.0082\n",
      "Epoch 17/100\n",
      "25/25 [==============================] - 0s 2ms/step - loss: 0.0081 - rmse: 0.0081\n",
      "Epoch 18/100\n",
      "25/25 [==============================] - 0s 2ms/step - loss: 0.0082 - rmse: 0.0082\n",
      "Epoch 19/100\n",
      "25/25 [==============================] - 0s 2ms/step - loss: 0.0081 - rmse: 0.0081\n",
      "Epoch 20/100\n",
      "25/25 [==============================] - 0s 2ms/step - loss: 0.0081 - rmse: 0.0081\n",
      "Epoch 21/100\n",
      "25/25 [==============================] - 0s 2ms/step - loss: 0.0080 - rmse: 0.0080\n",
      "Epoch 22/100\n",
      "25/25 [==============================] - 0s 2ms/step - loss: 0.0081 - rmse: 0.0081\n",
      "Epoch 23/100\n",
      "25/25 [==============================] - 0s 2ms/step - loss: 0.0081 - rmse: 0.0081\n",
      "Epoch 24/100\n",
      "25/25 [==============================] - 0s 2ms/step - loss: 0.0081 - rmse: 0.0081\n",
      "Epoch 25/100\n",
      "25/25 [==============================] - 0s 3ms/step - loss: 0.0080 - rmse: 0.0080\n",
      "Epoch 26/100\n",
      "25/25 [==============================] - 0s 3ms/step - loss: 0.0082 - rmse: 0.0082\n",
      "Epoch 27/100\n",
      "25/25 [==============================] - 0s 2ms/step - loss: 0.0084 - rmse: 0.0084\n",
      "Epoch 28/100\n",
      "25/25 [==============================] - 0s 2ms/step - loss: 0.0083 - rmse: 0.0083\n",
      "Epoch 29/100\n",
      "25/25 [==============================] - 0s 2ms/step - loss: 0.0081 - rmse: 0.0081\n",
      "Epoch 30/100\n",
      "25/25 [==============================] - 0s 2ms/step - loss: 0.0080 - rmse: 0.0080\n",
      "Epoch 31/100\n",
      "25/25 [==============================] - 0s 2ms/step - loss: 0.0082 - rmse: 0.0082\n",
      "Epoch 32/100\n",
      "25/25 [==============================] - 0s 2ms/step - loss: 0.0081 - rmse: 0.0081\n",
      "Epoch 33/100\n",
      "25/25 [==============================] - 0s 2ms/step - loss: 0.0080 - rmse: 0.0080\n",
      "Epoch 34/100\n",
      "25/25 [==============================] - 0s 2ms/step - loss: 0.0080 - rmse: 0.0079\n",
      "Epoch 35/100\n",
      "25/25 [==============================] - 0s 2ms/step - loss: 0.0081 - rmse: 0.0081\n",
      "Epoch 36/100\n",
      "25/25 [==============================] - 0s 2ms/step - loss: 0.0080 - rmse: 0.0080\n",
      "Epoch 37/100\n",
      "25/25 [==============================] - 0s 2ms/step - loss: 0.0081 - rmse: 0.0081\n",
      "Epoch 38/100\n",
      "25/25 [==============================] - 0s 2ms/step - loss: 0.0081 - rmse: 0.0081\n",
      "Epoch 39/100\n",
      "25/25 [==============================] - 0s 2ms/step - loss: 0.0079 - rmse: 0.0079\n",
      "Epoch 40/100\n",
      "25/25 [==============================] - 0s 2ms/step - loss: 0.0080 - rmse: 0.0080\n",
      "Epoch 41/100\n",
      "25/25 [==============================] - 0s 2ms/step - loss: 0.0081 - rmse: 0.0081\n",
      "Epoch 42/100\n",
      "25/25 [==============================] - 0s 2ms/step - loss: 0.0081 - rmse: 0.0081\n",
      "Epoch 43/100\n",
      "25/25 [==============================] - 0s 2ms/step - loss: 0.0081 - rmse: 0.0081\n",
      "Epoch 44/100\n",
      "25/25 [==============================] - 0s 2ms/step - loss: 0.0081 - rmse: 0.0081\n",
      "Epoch 45/100\n",
      "25/25 [==============================] - 0s 2ms/step - loss: 0.0081 - rmse: 0.0081\n",
      "Epoch 46/100\n",
      "25/25 [==============================] - 0s 2ms/step - loss: 0.0080 - rmse: 0.0080\n",
      "Epoch 47/100\n",
      "25/25 [==============================] - 0s 2ms/step - loss: 0.0080 - rmse: 0.0080\n",
      "Epoch 48/100\n",
      "25/25 [==============================] - 0s 2ms/step - loss: 0.0081 - rmse: 0.0081\n",
      "Epoch 49/100\n",
      "25/25 [==============================] - 0s 2ms/step - loss: 0.0081 - rmse: 0.0082\n",
      "Epoch 50/100\n",
      "25/25 [==============================] - 0s 2ms/step - loss: 0.0080 - rmse: 0.0080\n",
      "Epoch 51/100\n",
      "25/25 [==============================] - 0s 3ms/step - loss: 0.0079 - rmse: 0.0080\n",
      "Epoch 52/100\n",
      "25/25 [==============================] - 0s 2ms/step - loss: 0.0081 - rmse: 0.0081\n",
      "Epoch 53/100\n",
      "25/25 [==============================] - 0s 2ms/step - loss: 0.0079 - rmse: 0.0079\n",
      "Epoch 54/100\n",
      "25/25 [==============================] - 0s 2ms/step - loss: 0.0080 - rmse: 0.0080\n",
      "Epoch 55/100\n",
      "25/25 [==============================] - 0s 2ms/step - loss: 0.0082 - rmse: 0.0082\n",
      "Epoch 56/100\n",
      "25/25 [==============================] - 0s 2ms/step - loss: 0.0080 - rmse: 0.0080\n",
      "Epoch 57/100\n",
      "25/25 [==============================] - 0s 2ms/step - loss: 0.0080 - rmse: 0.0080\n",
      "Epoch 58/100\n",
      "25/25 [==============================] - 0s 2ms/step - loss: 0.0082 - rmse: 0.0082\n",
      "Epoch 59/100\n",
      "25/25 [==============================] - 0s 2ms/step - loss: 0.0082 - rmse: 0.0082\n",
      "Epoch 60/100\n",
      "25/25 [==============================] - 0s 3ms/step - loss: 0.0081 - rmse: 0.0081\n",
      "Epoch 61/100\n",
      "25/25 [==============================] - 0s 2ms/step - loss: 0.0080 - rmse: 0.0080\n",
      "Epoch 62/100\n",
      "25/25 [==============================] - 0s 2ms/step - loss: 0.0079 - rmse: 0.0079\n",
      "Epoch 63/100\n",
      "25/25 [==============================] - 0s 2ms/step - loss: 0.0080 - rmse: 0.0080\n",
      "Epoch 64/100\n",
      "25/25 [==============================] - 0s 2ms/step - loss: 0.0080 - rmse: 0.0080\n",
      "Epoch 65/100\n",
      "25/25 [==============================] - 0s 2ms/step - loss: 0.0079 - rmse: 0.0079\n",
      "Epoch 66/100\n",
      "25/25 [==============================] - 0s 2ms/step - loss: 0.0083 - rmse: 0.0083\n",
      "Epoch 67/100\n",
      "25/25 [==============================] - 0s 2ms/step - loss: 0.0082 - rmse: 0.0082\n",
      "Epoch 68/100\n",
      "25/25 [==============================] - 0s 2ms/step - loss: 0.0079 - rmse: 0.0079\n",
      "Epoch 69/100\n",
      "25/25 [==============================] - 0s 3ms/step - loss: 0.0079 - rmse: 0.0079\n",
      "Epoch 70/100\n",
      "25/25 [==============================] - 0s 3ms/step - loss: 0.0079 - rmse: 0.0079\n",
      "Epoch 71/100\n",
      "25/25 [==============================] - 0s 3ms/step - loss: 0.0081 - rmse: 0.0081\n",
      "Epoch 72/100\n",
      "25/25 [==============================] - 0s 3ms/step - loss: 0.0080 - rmse: 0.0080\n",
      "Epoch 73/100\n",
      "25/25 [==============================] - 0s 3ms/step - loss: 0.0080 - rmse: 0.0080\n",
      "Epoch 74/100\n",
      "25/25 [==============================] - 0s 3ms/step - loss: 0.0080 - rmse: 0.0080\n",
      "Epoch 75/100\n",
      "25/25 [==============================] - 0s 3ms/step - loss: 0.0080 - rmse: 0.0080\n",
      "Epoch 76/100\n",
      "25/25 [==============================] - 0s 3ms/step - loss: 0.0079 - rmse: 0.0079\n",
      "Epoch 77/100\n",
      "25/25 [==============================] - 0s 3ms/step - loss: 0.0079 - rmse: 0.0079\n",
      "Epoch 78/100\n",
      "25/25 [==============================] - 0s 3ms/step - loss: 0.0079 - rmse: 0.0079\n",
      "Epoch 79/100\n",
      "25/25 [==============================] - 0s 3ms/step - loss: 0.0080 - rmse: 0.0080\n",
      "Epoch 80/100\n",
      "25/25 [==============================] - 0s 3ms/step - loss: 0.0079 - rmse: 0.0079\n",
      "Epoch 81/100\n",
      "25/25 [==============================] - 0s 3ms/step - loss: 0.0079 - rmse: 0.0079\n",
      "Epoch 82/100\n",
      "25/25 [==============================] - 0s 4ms/step - loss: 0.0079 - rmse: 0.0079\n",
      "Epoch 83/100\n",
      "25/25 [==============================] - 0s 3ms/step - loss: 0.0079 - rmse: 0.0079\n",
      "Epoch 84/100\n",
      "25/25 [==============================] - 0s 4ms/step - loss: 0.0079 - rmse: 0.0079\n",
      "Epoch 85/100\n",
      "25/25 [==============================] - 0s 3ms/step - loss: 0.0079 - rmse: 0.0079\n",
      "Epoch 86/100\n",
      "25/25 [==============================] - 0s 3ms/step - loss: 0.0080 - rmse: 0.0080\n",
      "Epoch 87/100\n",
      "25/25 [==============================] - 0s 3ms/step - loss: 0.0080 - rmse: 0.0079\n",
      "Epoch 88/100\n",
      "25/25 [==============================] - 0s 3ms/step - loss: 0.0079 - rmse: 0.0079\n",
      "Epoch 89/100\n",
      "25/25 [==============================] - 0s 3ms/step - loss: 0.0081 - rmse: 0.0081\n",
      "Epoch 90/100\n",
      "25/25 [==============================] - 0s 3ms/step - loss: 0.0081 - rmse: 0.0081\n",
      "Epoch 91/100\n",
      "25/25 [==============================] - 0s 3ms/step - loss: 0.0079 - rmse: 0.0079\n",
      "Epoch 92/100\n",
      "25/25 [==============================] - 0s 3ms/step - loss: 0.0079 - rmse: 0.0079\n",
      "Epoch 93/100\n",
      "25/25 [==============================] - 0s 3ms/step - loss: 0.0078 - rmse: 0.0078\n",
      "Epoch 94/100\n",
      "25/25 [==============================] - 0s 3ms/step - loss: 0.0081 - rmse: 0.0081\n",
      "Epoch 95/100\n",
      "25/25 [==============================] - 0s 3ms/step - loss: 0.0079 - rmse: 0.0079\n",
      "Epoch 96/100\n",
      "25/25 [==============================] - 0s 3ms/step - loss: 0.0079 - rmse: 0.0079\n",
      "Epoch 97/100\n",
      "25/25 [==============================] - 0s 3ms/step - loss: 0.0079 - rmse: 0.0079\n",
      "Epoch 98/100\n",
      "25/25 [==============================] - 0s 3ms/step - loss: 0.0081 - rmse: 0.0081\n",
      "Epoch 99/100\n",
      "25/25 [==============================] - 0s 3ms/step - loss: 0.0080 - rmse: 0.0080\n",
      "Epoch 100/100\n",
      "25/25 [==============================] - 0s 3ms/step - loss: 0.0078 - rmse: 0.0078\n"
     ]
    },
    {
     "data": {
      "text/plain": [
       "<tensorflow.python.keras.callbacks.History at 0x1e67e655670>"
      ]
     },
     "execution_count": 13,
     "metadata": {},
     "output_type": "execute_result"
    }
   ],
   "source": [
    "optimizer = tf.keras.optimizers.Adam(learning_rate=1e-5)\n",
    "model_dnn.compile(loss=rmse, optimizer=optimizer, metrics=[rmse])\n",
    "#model_dnn.fit(X_train_dnn, y_train, epochs=1000)"
   ]
  },
  {
   "cell_type": "code",
   "execution_count": 10,
   "metadata": {},
   "outputs": [],
   "source": [
    "#model_dnn.save_weights('dnn_weights.h5')\n",
    "model_dnn.load_weights('dnn_weights.h5')"
   ]
  },
  {
   "cell_type": "code",
   "execution_count": 11,
   "metadata": {},
   "outputs": [],
   "source": [
    "test_data = np.array(data05, dtype=float)\n",
    "test_labels = np.array(y05, dtype=float)\n",
    "predictions_dnn = model_dnn.predict(np.reshape(test_data, (test_data.shape[0],test_data.shape[1]*test_data.shape[2])))"
   ]
  },
  {
   "cell_type": "code",
   "execution_count": 12,
   "metadata": {},
   "outputs": [
    {
     "data": {
      "image/png": "[encoded data removed]",
      "text/plain": [
       "<Figure size 432x288 with 1 Axes>"
      ]
     },
     "metadata": {
      "needs_background": "light"
     },
     "output_type": "display_data"
    }
   ],
   "source": [
    "from matplotlib import pyplot\n",
    "\n",
    "\n",
    "pyplot.plot(predictions_dnn)\n",
    "\n",
    "pyplot.plot(test_labels)\n",
    "pyplot.legend(['Predictions', 'Testlabels'])\n",
    "pyplot.savefig(\"dnn_img\")"
   ]
  },
  {
   "cell_type": "code",
   "execution_count": 13,
   "metadata": {},
   "outputs": [],
   "source": [
    "#CNN MODEL\n",
    "model_cnn = Sequential()\n",
    "                     \n",
    "model_cnn.add(Conv1D(filters=8, kernel_size=3,padding=\"same\", activation=\"relu\", input_shape=[20, 12]))\n",
    "\n",
    "model_cnn.add(Flatten())\n",
    "\n",
    "model_cnn.add(Dense(64, activation='tanh', kernel_initializer='random_uniform'))\n",
    "\n",
    "model_cnn.add(Dense(32,activation='relu', kernel_initializer='random_uniform'))\n",
    "\n",
    "model_cnn.add(Dense(1, kernel_initializer='random_uniform'))"
   ]
  },
  {
   "cell_type": "code",
   "execution_count": 36,
   "metadata": {},
   "outputs": [],
   "source": [
    "lr_schedule = tf.keras.callbacks.LearningRateScheduler(\n",
    "    lambda epoch: 1e-8 * 10**(epoch / 20))\n",
    "\n",
    "optimizer = tf.keras.optimizers.Adam(learning_rate=1e-4)\n",
    "\n",
    "model_cnn.compile(loss=rmse,\n",
    "              optimizer=optimizer,\n",
    "              metrics=[rmse])"
   ]
  },
  {
   "cell_type": "code",
   "execution_count": null,
   "metadata": {},
   "outputs": [],
   "source": [
    "#history = model_cnn.fit(X_train, y_train, epochs=1000)"
   ]
  },
  {
   "cell_type": "code",
   "execution_count": null,
   "metadata": {},
   "outputs": [],
   "source": [
    "#model_cnn.save_weights('cnn_weights.h5')"
   ]
  },
  {
   "cell_type": "code",
   "execution_count": 14,
   "metadata": {},
   "outputs": [],
   "source": [
    "model_cnn.load_weights('cnn_weights.h5')"
   ]
  },
  {
   "cell_type": "code",
   "execution_count": 15,
   "metadata": {},
   "outputs": [],
   "source": [
    "predictions_cnn = model_cnn.predict(test_data)"
   ]
  },
  {
   "cell_type": "code",
   "execution_count": 16,
   "metadata": {},
   "outputs": [
    {
     "name": "stdout",
     "output_type": "stream",
     "text": [
      "Model: \"sequential_2\"\n",
      "_________________________________________________________________\n",
      "Layer (type)                 Output Shape              Param #   \n",
      "=================================================================\n",
      "masking (Masking)            (None, 20, 12)            0         \n",
      "_________________________________________________________________\n",
      "simple_rnn (SimpleRNN)       (None, 32)                1440      \n",
      "_________________________________________________________________\n",
      "dense_8 (Dense)              (None, 16)                528       \n",
      "_________________________________________________________________\n",
      "dense_9 (Dense)              (None, 1)                 17        \n",
      "=================================================================\n",
      "Total params: 1,985\n",
      "Trainable params: 1,985\n",
      "Non-trainable params: 0\n",
      "_________________________________________________________________\n"
     ]
    }
   ],
   "source": [
    "#SimpleRNN MODEL\n",
    "\n",
    "model_simpleRNN = Sequential()\n",
    "model_simpleRNN.add(tf.keras.layers.Masking(input_shape = [20, 12]))    \n",
    "\n",
    "model_simpleRNN.add(SimpleRNN(32, activation='relu' ,kernel_initializer='random_uniform' ))\n",
    "\n",
    "#model.add(Dense(128, activation='tanh', kernel_initializer='random_uniform'))\n",
    "\n",
    "model_simpleRNN.add(Dense(16,activation='relu', kernel_initializer='random_uniform'))\n",
    "model_simpleRNN.add(Dense(1, kernel_initializer='random_uniform'))\n",
    "model_simpleRNN.summary()"
   ]
  },
  {
   "cell_type": "code",
   "execution_count": 11,
   "metadata": {},
   "outputs": [],
   "source": [
    "#NO NEED TO RUN\n",
    "lr_schedule = tf.keras.callbacks.LearningRateScheduler(lambda epoch: 1e-8 * 10**(epoch / 20))\n",
    "\n",
    "optimizer = tf.keras.optimizers.Adam(learning_rate=1e-4)\n",
    "\n",
    "model_simpleRNN.compile(loss=rmse, optimizer=optimizer, metrics=[rmse])"
   ]
  },
  {
   "cell_type": "code",
   "execution_count": 88,
   "metadata": {},
   "outputs": [
    {
     "name": "stdout",
     "output_type": "stream",
     "text": [
      "Train on 796 samples\n",
      "Epoch 1/20\n",
      "796/796 [==============================] - 0s 356us/sample - loss: 0.0088 - rmse: 0.0088\n",
      "Epoch 2/20\n",
      "796/796 [==============================] - 0s 283us/sample - loss: 0.0065 - rmse: 0.0065\n",
      "Epoch 3/20\n",
      "796/796 [==============================] - 0s 278us/sample - loss: 0.0069 - rmse: 0.0069\n",
      "Epoch 4/20\n",
      "796/796 [==============================] - 0s 269us/sample - loss: 0.0067 - rmse: 0.0067\n",
      "Epoch 5/20\n",
      "796/796 [==============================] - 0s 279us/sample - loss: 0.0070 - rmse: 0.0070\n",
      "Epoch 6/20\n",
      "796/796 [==============================] - 0s 272us/sample - loss: 0.0069 - rmse: 0.0069\n",
      "Epoch 7/20\n",
      "796/796 [==============================] - 0s 256us/sample - loss: 0.0068 - rmse: 0.0068\n",
      "Epoch 8/20\n",
      "796/796 [==============================] - 0s 270us/sample - loss: 0.0067 - rmse: 0.0067\n",
      "Epoch 9/20\n",
      "796/796 [==============================] - 0s 273us/sample - loss: 0.0074 - rmse: 0.0074\n",
      "Epoch 10/20\n",
      "796/796 [==============================] - 0s 268us/sample - loss: 0.0072 - rmse: 0.0073\n",
      "Epoch 11/20\n",
      "796/796 [==============================] - 0s 261us/sample - loss: 0.0066 - rmse: 0.0066\n",
      "Epoch 12/20\n",
      "796/796 [==============================] - 0s 249us/sample - loss: 0.0065 - rmse: 0.0065\n",
      "Epoch 13/20\n",
      "796/796 [==============================] - 0s 238us/sample - loss: 0.0065 - rmse: 0.0065\n",
      "Epoch 14/20\n",
      "796/796 [==============================] - 0s 248us/sample - loss: 0.0065 - rmse: 0.0065\n",
      "Epoch 15/20\n",
      "796/796 [==============================] - 0s 254us/sample - loss: 0.0066 - rmse: 0.0066\n",
      "Epoch 16/20\n",
      "796/796 [==============================] - 0s 239us/sample - loss: 0.0065 - rmse: 0.0065\n",
      "Epoch 17/20\n",
      "796/796 [==============================] - 0s 243us/sample - loss: 0.0067 - rmse: 0.0067\n",
      "Epoch 18/20\n",
      "796/796 [==============================] - 0s 255us/sample - loss: 0.0065 - rmse: 0.0066\n",
      "Epoch 19/20\n",
      "796/796 [==============================] - 0s 236us/sample - loss: 0.0067 - rmse: 0.0067\n",
      "Epoch 20/20\n",
      "796/796 [==============================] - 0s 243us/sample - loss: 0.0064 - rmse: 0.0064\n"
     ]
    }
   ],
   "source": [
    "#NO NEED TO RUN\n",
    "history = model_simpleRNN.fit(X_train, y_train, epochs=20)"
   ]
  },
  {
   "cell_type": "code",
   "execution_count": 82,
   "metadata": {},
   "outputs": [],
   "source": [
    "#NO NEED TO RUN\n",
    "model_simpleRNN.save_weights('simpleRNN_weights.h5')"
   ]
  },
  {
   "cell_type": "code",
   "execution_count": 17,
   "metadata": {},
   "outputs": [],
   "source": [
    "model_simpleRNN.load_weights('simpleRNN_weights.h5')"
   ]
  },
  {
   "cell_type": "code",
   "execution_count": 18,
   "metadata": {},
   "outputs": [],
   "source": [
    "predictions_rnn = model_simpleRNN.predict(test_data)"
   ]
  },
  {
   "cell_type": "code",
   "execution_count": 19,
   "metadata": {},
   "outputs": [
    {
     "name": "stdout",
     "output_type": "stream",
     "text": [
      "(168, 1)\n",
      "(168, 1)\n"
     ]
    },
    {
     "data": {
      "image/png": "[encoded data removed]",
      "text/plain": [
       "<Figure size 432x288 with 1 Axes>"
      ]
     },
     "metadata": {
      "needs_background": "light"
     },
     "output_type": "display_data"
    }
   ],
   "source": [
    "print(predictions_rnn.shape)\n",
    "print(test_labels.shape)\n",
    "error_rnn = np.subtract(predictions_rnn, test_labels)\n",
    "per_error_rnn = error_rnn/max(predictions_rnn)\n",
    "\n",
    "plt.plot(per_error_rnn)\n",
    "\n",
    "#pyplot.plot(test_labels)\n",
    "plt.show()"
   ]
  },
  {
   "cell_type": "code",
   "execution_count": 20,
   "metadata": {},
   "outputs": [
    {
     "data": {
      "image/png": "[encoded data removed]",
      "text/plain": [
       "<Figure size 432x288 with 1 Axes>"
      ]
     },
     "metadata": {
      "needs_background": "light"
     },
     "output_type": "display_data"
    }
   ],
   "source": [
    "from matplotlib import pyplot\n",
    "\n",
    "\n",
    "pyplot.plot(predictions_rnn)\n",
    "\n",
    "pyplot.plot(test_labels)\n",
    "pyplot.legend(['Predictions', 'Testlabels'])\n",
    "pyplot.savefig(\"wewe\")"
   ]
  },
  {
   "cell_type": "code",
   "execution_count": 21,
   "metadata": {},
   "outputs": [
    {
     "name": "stdout",
     "output_type": "stream",
     "text": [
      "Model: \"sequential_3\"\n",
      "_________________________________________________________________\n",
      "Layer (type)                 Output Shape              Param #   \n",
      "=================================================================\n",
      "masking_1 (Masking)          (None, 20, 12)            0         \n",
      "_________________________________________________________________\n",
      "gru (GRU)                    (None, 32)                4416      \n",
      "_________________________________________________________________\n",
      "dense_10 (Dense)             (None, 16)                528       \n",
      "_________________________________________________________________\n",
      "dense_11 (Dense)             (None, 1)                 17        \n",
      "=================================================================\n",
      "Total params: 4,961\n",
      "Trainable params: 4,961\n",
      "Non-trainable params: 0\n",
      "_________________________________________________________________\n"
     ]
    }
   ],
   "source": [
    "#GRU MODEL\n",
    "\n",
    "model_gru = Sequential()\n",
    "model_gru.add(tf.keras.layers.Masking(input_shape = [20, 12]))    \n",
    "\n",
    "model_gru.add(GRU(32 ,kernel_initializer='random_uniform' ))\n",
    "\n",
    "model_gru.add(Dense(16,activation='relu', kernel_initializer='random_uniform'))\n",
    "model_gru.add(Dense(1, kernel_initializer='random_uniform'))\n",
    "model_gru.summary()"
   ]
  },
  {
   "cell_type": "code",
   "execution_count": 115,
   "metadata": {},
   "outputs": [],
   "source": [
    "#NO NEED TO RUN\n",
    "lr_schedule = tf.keras.callbacks.LearningRateScheduler(lambda epoch: 1e-8 * 10**(epoch / 20))\n",
    "\n",
    "optimizer = tf.keras.optimizers.Adam(learning_rate=1e-5)\n",
    "\n",
    "model_gru.compile(loss=rmse, optimizer=optimizer, metrics=[rmse])"
   ]
  },
  {
   "cell_type": "code",
   "execution_count": 116,
   "metadata": {},
   "outputs": [
    {
     "name": "stdout",
     "output_type": "stream",
     "text": [
      "Train on 796 samples\n",
      "Epoch 1/20\n",
      "796/796 [==============================] - 0s 599us/sample - loss: 0.0067 - rmse: 0.0067\n",
      "Epoch 2/20\n",
      "796/796 [==============================] - 0s 526us/sample - loss: 0.0067 - rmse: 0.0067\n",
      "Epoch 3/20\n",
      "796/796 [==============================] - 0s 479us/sample - loss: 0.0067 - rmse: 0.0067\n",
      "Epoch 4/20\n",
      "796/796 [==============================] - 0s 486us/sample - loss: 0.0066 - rmse: 0.0066\n",
      "Epoch 5/20\n",
      "796/796 [==============================] - 0s 516us/sample - loss: 0.0067 - rmse: 0.0067\n",
      "Epoch 6/20\n",
      "796/796 [==============================] - 0s 507us/sample - loss: 0.0067 - rmse: 0.0067\n",
      "Epoch 7/20\n",
      "796/796 [==============================] - 0s 508us/sample - loss: 0.0067 - rmse: 0.0067\n",
      "Epoch 8/20\n",
      "796/796 [==============================] - 0s 535us/sample - loss: 0.0066 - rmse: 0.0066\n",
      "Epoch 9/20\n",
      "796/796 [==============================] - 0s 519us/sample - loss: 0.0066 - rmse: 0.0066\n",
      "Epoch 10/20\n",
      "796/796 [==============================] - 0s 472us/sample - loss: 0.0067 - rmse: 0.0067\n",
      "Epoch 11/20\n",
      "796/796 [==============================] - 0s 454us/sample - loss: 0.0067 - rmse: 0.0067\n",
      "Epoch 12/20\n",
      "796/796 [==============================] - 0s 465us/sample - loss: 0.0067 - rmse: 0.0067\n",
      "Epoch 13/20\n",
      "796/796 [==============================] - 0s 469us/sample - loss: 0.0066 - rmse: 0.0066\n",
      "Epoch 14/20\n",
      "796/796 [==============================] - 0s 466us/sample - loss: 0.0067 - rmse: 0.0067\n",
      "Epoch 15/20\n",
      "796/796 [==============================] - 0s 480us/sample - loss: 0.0067 - rmse: 0.0066\n",
      "Epoch 16/20\n",
      "796/796 [==============================] - 0s 473us/sample - loss: 0.0067 - rmse: 0.0067\n",
      "Epoch 17/20\n",
      "796/796 [==============================] - 0s 476us/sample - loss: 0.0066 - rmse: 0.0066\n",
      "Epoch 18/20\n",
      "796/796 [==============================] - 0s 468us/sample - loss: 0.0066 - rmse: 0.0066\n",
      "Epoch 19/20\n",
      "796/796 [==============================] - 0s 478us/sample - loss: 0.0066 - rmse: 0.0066\n",
      "Epoch 20/20\n",
      "796/796 [==============================] - 0s 474us/sample - loss: 0.0067 - rmse: 0.0067\n"
     ]
    }
   ],
   "source": [
    "#NO NEED TO RUN\n",
    "history = model_gru.fit(X_train, y_train, epochs=20)"
   ]
  },
  {
   "cell_type": "code",
   "execution_count": 117,
   "metadata": {},
   "outputs": [],
   "source": [
    "#NO NEED TO RUN\n",
    "model_gru.save_weights('gru_weights.h5')"
   ]
  },
  {
   "cell_type": "code",
   "execution_count": 22,
   "metadata": {},
   "outputs": [],
   "source": [
    "model_gru.load_weights('gru_weights.h5')"
   ]
  },
  {
   "cell_type": "code",
   "execution_count": 23,
   "metadata": {},
   "outputs": [],
   "source": [
    "predictions_gru = model_gru.predict(test_data)"
   ]
  },
  {
   "cell_type": "code",
   "execution_count": 24,
   "metadata": {},
   "outputs": [
    {
     "data": {
      "image/png": "[encoded data removed]",
      "text/plain": [
       "<Figure size 432x288 with 1 Axes>"
      ]
     },
     "metadata": {
      "needs_background": "light"
     },
     "output_type": "display_data"
    }
   ],
   "source": [
    "error_gru = np.subtract(predictions_gru, test_labels)\n",
    "per_error_gru = error_gru/max(predictions_gru)\n",
    "\n",
    "plt.plot(per_error_gru)\n",
    "#pyplot.plot(per_error1)\n",
    "plt.show()"
   ]
  },
  {
   "cell_type": "code",
   "execution_count": 25,
   "metadata": {},
   "outputs": [
    {
     "data": {
      "image/png": "[encoded data removed]",
      "text/plain": [
       "<Figure size 432x288 with 1 Axes>"
      ]
     },
     "metadata": {
      "needs_background": "light"
     },
     "output_type": "display_data"
    }
   ],
   "source": [
    "from matplotlib import pyplot\n",
    "\n",
    "pyplot.plot(predictions_gru)\n",
    "pyplot.plot(test_labels)\n",
    "pyplot.xlabel('cycles', color='w')\n",
    "pyplot.ylabel('%SOH', color='w')\n",
    "pyplot.title('Battery #5', color='w')\n",
    "pyplot.legend(['GRU Predicted SOH', 'Actual SOH'])\n",
    "pyplot.savefig(\"gru_img.png\")\n"
   ]
  },
  {
   "cell_type": "code",
   "execution_count": 26,
   "metadata": {},
   "outputs": [
    {
     "name": "stdout",
     "output_type": "stream",
     "text": [
      "Model: \"sequential_4\"\n",
      "_________________________________________________________________\n",
      "Layer (type)                 Output Shape              Param #   \n",
      "=================================================================\n",
      "masking_2 (Masking)          (None, 20, 12)            0         \n",
      "_________________________________________________________________\n",
      "lstm (LSTM)                  (None, 32)                5760      \n",
      "_________________________________________________________________\n",
      "dense_12 (Dense)             (None, 16)                528       \n",
      "_________________________________________________________________\n",
      "dense_13 (Dense)             (None, 1)                 17        \n",
      "=================================================================\n",
      "Total params: 6,305\n",
      "Trainable params: 6,305\n",
      "Non-trainable params: 0\n",
      "_________________________________________________________________\n"
     ]
    }
   ],
   "source": [
    "#LSTM MODEL\n",
    "\n",
    "model_lstm = Sequential()\n",
    "model_lstm.add(tf.keras.layers.Masking(input_shape = [20, 12]))    \n",
    "\n",
    "model_lstm.add(LSTM(32, activation='relu' ,kernel_initializer='random_uniform' ))\n",
    "\n",
    "#model.add(Dense(128, activation='tanh', kernel_initializer='random_uniform'))\n",
    "\n",
    "model_lstm.add(Dense(16,activation='relu', kernel_initializer='random_uniform'))\n",
    "model_lstm.add(Dense(1, kernel_initializer='random_uniform'))\n",
    "model_lstm.summary()"
   ]
  },
  {
   "cell_type": "code",
   "execution_count": 152,
   "metadata": {},
   "outputs": [],
   "source": [
    "#NO NEED TO RUN\n",
    "lr_schedule = tf.keras.callbacks.LearningRateScheduler(lambda epoch: 1e-8 * 10**(epoch / 20))\n",
    "\n",
    "optimizer = tf.keras.optimizers.Adam(learning_rate=3*1e-7)\n",
    "\n",
    "model_lstm.compile(loss=rmse, optimizer=optimizer, metrics=[rmse])"
   ]
  },
  {
   "cell_type": "code",
   "execution_count": 153,
   "metadata": {},
   "outputs": [
    {
     "name": "stdout",
     "output_type": "stream",
     "text": [
      "Train on 796 samples\n",
      "Epoch 1/20\n",
      "796/796 [==============================] - 0s 601us/sample - loss: 0.0085 - rmse: 0.0085\n",
      "Epoch 2/20\n",
      "796/796 [==============================] - 0s 542us/sample - loss: 0.0084 - rmse: 0.0084\n",
      "Epoch 3/20\n",
      "796/796 [==============================] - 0s 503us/sample - loss: 0.0085 - rmse: 0.0085\n",
      "Epoch 4/20\n",
      "796/796 [==============================] - 0s 503us/sample - loss: 0.0085 - rmse: 0.0085\n",
      "Epoch 5/20\n",
      "796/796 [==============================] - 0s 507us/sample - loss: 0.0085 - rmse: 0.0085\n",
      "Epoch 6/20\n",
      "796/796 [==============================] - 0s 535us/sample - loss: 0.0085 - rmse: 0.0085\n",
      "Epoch 7/20\n",
      "796/796 [==============================] - 0s 547us/sample - loss: 0.0085 - rmse: 0.0085\n",
      "Epoch 8/20\n",
      "796/796 [==============================] - 0s 513us/sample - loss: 0.0085 - rmse: 0.0085\n",
      "Epoch 9/20\n",
      "796/796 [==============================] - 0s 536us/sample - loss: 0.0085 - rmse: 0.0085\n",
      "Epoch 10/20\n",
      "796/796 [==============================] - 0s 528us/sample - loss: 0.0084 - rmse: 0.0084\n",
      "Epoch 11/20\n",
      "796/796 [==============================] - 0s 515us/sample - loss: 0.0083 - rmse: 0.0083\n",
      "Epoch 12/20\n",
      "796/796 [==============================] - 0s 572us/sample - loss: 0.0085 - rmse: 0.0085\n",
      "Epoch 13/20\n",
      "796/796 [==============================] - 0s 626us/sample - loss: 0.0084 - rmse: 0.0084\n",
      "Epoch 14/20\n",
      "796/796 [==============================] - 0s 546us/sample - loss: 0.0085 - rmse: 0.0085\n",
      "Epoch 15/20\n",
      "796/796 [==============================] - 0s 540us/sample - loss: 0.0085 - rmse: 0.0085\n",
      "Epoch 16/20\n",
      "796/796 [==============================] - 0s 575us/sample - loss: 0.0085 - rmse: 0.0085\n",
      "Epoch 17/20\n",
      "796/796 [==============================] - 0s 588us/sample - loss: 0.0085 - rmse: 0.0085\n",
      "Epoch 18/20\n",
      "796/796 [==============================] - 0s 571us/sample - loss: 0.0085 - rmse: 0.0085\n",
      "Epoch 19/20\n",
      "796/796 [==============================] - 0s 548us/sample - loss: 0.0084 - rmse: 0.0084\n",
      "Epoch 20/20\n",
      "796/796 [==============================] - 0s 535us/sample - loss: 0.0084 - rmse: 0.0084\n"
     ]
    }
   ],
   "source": [
    "#NO NEED TO RUN\n",
    "history = model_lstm.fit(X_train, y_train, epochs=20)"
   ]
  },
  {
   "cell_type": "code",
   "execution_count": 154,
   "metadata": {},
   "outputs": [],
   "source": [
    "#NO NEED TO RUN\n",
    "model_lstm.save_weights('lstm_weights.h5')"
   ]
  },
  {
   "cell_type": "code",
   "execution_count": 27,
   "metadata": {},
   "outputs": [],
   "source": [
    "model_lstm.load_weights('lstm_weights.h5')"
   ]
  },
  {
   "cell_type": "code",
   "execution_count": 28,
   "metadata": {},
   "outputs": [],
   "source": [
    "predictions_lstm = model_lstm.predict(test_data)"
   ]
  },
  {
   "cell_type": "code",
   "execution_count": 29,
   "metadata": {},
   "outputs": [],
   "source": [
    "test_data = np.array(data56, dtype=float)\n",
    "test_labels = np.array(y56, dtype=float)\n",
    "\n",
    "predictions_dnn = model_dnn.predict(np.reshape(test_data, (test_data.shape[0],test_data.shape[1]*test_data.shape[2])))\n",
    "\n",
    "predictions_rnn = model_simpleRNN.predict(test_data)\n",
    "predictions_gru = model_gru.predict(test_data)\n",
    "predictions_lstm = model_lstm.predict(test_data)"
   ]
  },
  {
   "cell_type": "code",
   "execution_count": 30,
   "metadata": {},
   "outputs": [
    {
     "data": {
      "image/png": "[encoded data removed]",
      "text/plain": [
       "<Figure size 432x288 with 1 Axes>"
      ]
     },
     "metadata": {
      "needs_background": "light"
     },
     "output_type": "display_data"
    }
   ],
   "source": [
    "from matplotlib import pyplot\n",
    "pyplot.plot(predictions_dnn, color='purple')\n",
    "pyplot.plot(predictions_gru, color='r')\n",
    "pyplot.plot(predictions_lstm, color='orange')\n",
    "pyplot.plot(test_labels, color='g')\n",
    "pyplot.xlabel('cycles', color='black', fontsize=14)\n",
    "pyplot.ylabel('%SOH', color='black', fontsize=14)\n",
    "pyplot.title('Battery #56', color='black', fontsize=16)\n",
    "pyplot.legend(['DNN','GRU','LSTM', 'Actual'])\n",
    "pyplot.savefig('w0iiw0.png')"
   ]
  },
  {
   "cell_type": "code",
   "execution_count": 31,
   "metadata": {},
   "outputs": [],
   "source": [
    "def rmse_error(data, y):\n",
    "    sim_rnn = model_simpleRNN.predict(data)\n",
    "    dnn_d = model_dnn.predict(np.reshape(data, (data.shape[0],data.shape[1]*data.shape[2])))\n",
    "    lstm_d = model_lstm.predict(data)\n",
    "    gru_d = model_gru.predict(data)\n",
    "    cnn_d = model_cnn.predict(data)\n",
    "    err = np.array((rmse(sim_rnn, y)))\n",
    "    err = np.append(err,np.array((rmse(gru_d, y))))\n",
    "    err = np.append(err,np.array((rmse(lstm_d, y))))\n",
    "    err = np.append(err,np.array((rmse(dnn_d, y))))\n",
    "    err = np.append(err,np.array((rmse(cnn_d, y))))\n",
    "    err_lst = err.tolist()\n",
    "    dict = {'DNN':float(\"{:.3f}\".format(err_lst[3])), 'CNN':float(\"{:.3f}\".format(err_lst[4])), 'simpleRNN':float(\"{:.3f}\".format(err_lst[0])), 'GRU':float(\"{:.3f}\".format(err_lst[1])), 'LSTM':float(\"{:.3f}\".format(err_lst[2]))}\n",
    "    return dict\n"
   ]
  },
  {
   "cell_type": "code",
   "execution_count": 32,
   "metadata": {},
   "outputs": [
    {
     "name": "stdout",
     "output_type": "stream",
     "text": [
      "{'cell05': {'DNN': 0.006, 'CNN': 0.004, 'simpleRNN': 0.003, 'GRU': 0.005, 'LSTM': 0.007}, 'cell06': {'DNN': 0.007, 'CNN': 0.004, 'simpleRNN': 0.005, 'GRU': 0.005, 'LSTM': 0.007}, 'cell07': {'DNN': 0.006, 'CNN': 0.003, 'simpleRNN': 0.003, 'GRU': 0.004, 'LSTM': 0.006}, 'cell18': {'DNN': 0.008, 'CNN': 0.004, 'simpleRNN': 0.004, 'GRU': 0.003, 'LSTM': 0.006}, 'cell53': {'DNN': 0.011, 'CNN': 0.008, 'simpleRNN': 0.011, 'GRU': 0.013, 'LSTM': 0.015}, 'cell54': {'DNN': 0.013, 'CNN': 0.006, 'simpleRNN': 0.009, 'GRU': 0.01, 'LSTM': 0.011}, 'cell55': {'DNN': 0.008, 'CNN': 0.007, 'simpleRNN': 0.01, 'GRU': 0.008, 'LSTM': 0.008}, 'cell56': {'DNN': 0.012, 'CNN': 0.006, 'simpleRNN': 0.01, 'GRU': 0.009, 'LSTM': 0.012}}\n"
     ]
    }
   ],
   "source": [
    "dict = {}\n",
    "dict['cell05']=rmse_error(np.array(data05, dtype=float),np.array(y05, dtype=float))\n",
    "dict['cell06']=rmse_error(np.array(data06, dtype=float),np.array(y06, dtype=float))\n",
    "dict['cell07']=rmse_error(np.array(data07, dtype=float),np.array(y07, dtype=float))\n",
    "dict['cell18']=rmse_error(np.array(data18, dtype=float),np.array(y18, dtype=float))\n",
    "dict['cell53']=rmse_error(np.array(data53, dtype=float),np.array(y53, dtype=float))\n",
    "dict['cell54']=rmse_error(np.array(data54, dtype=float),np.array(y54, dtype=float))\n",
    "dict['cell55']=rmse_error(np.array(data55, dtype=float),np.array(y55, dtype=float))\n",
    "dict['cell56']=rmse_error(np.array(data56, dtype=float),np.array(y56, dtype=float))\n",
    "print(dict)\n",
    "\n",
    "\n",
    "import pickle\n",
    "\n",
    "a_file = open(\"data.pkl\", \"wb\")\n",
    "pickle.dump(dict, a_file)\n",
    "a_file.close()"
   ]
  },
  {
   "cell_type": "code",
   "execution_count": 38,
   "metadata": {},
   "outputs": [],
   "source": [
    "def rmse(y_true, y_pred):\n",
    "    return K.sqrt(K.mean(K.square(y_pred - y_true)))\n",
    "\n",
    "def mae(y_true, y_pred):\n",
    "    return K.mean(K.abs(y_true - y_pred))\n",
    "\n",
    "def r_square(y_true, y_pred):\n",
    "    sse = K.sum(K.square(y_true-y_pred))\n",
    "    tss = K.sum(K.square(y_true - K.sum(y_true)/len(y_true)))\n",
    "    return 1-(sse/tss)"
   ]
  },
  {
   "cell_type": "code",
   "execution_count": 34,
   "metadata": {},
   "outputs": [],
   "source": [
    "def mae_error(data, y):\n",
    "    sim_rnn = model_simpleRNN.predict(data)\n",
    "    dnn_d = model_dnn.predict(np.reshape(data, (data.shape[0],data.shape[1]*data.shape[2])))\n",
    "    lstm_d = model_lstm.predict(data)\n",
    "    gru_d = model_gru.predict(data)\n",
    "    cnn_d = model_cnn.predict(data)\n",
    "    err = np.array((mae(sim_rnn, y)))\n",
    "    err = np.append(err,np.array((mae(gru_d, y))))\n",
    "    err = np.append(err,np.array((mae(lstm_d, y))))\n",
    "    err = np.append(err,np.array((mae(dnn_d, y))))\n",
    "    err = np.append(err,np.array((mae(cnn_d, y))))\n",
    "    err_lst = err.tolist()\n",
    "    dict = {'DNN':float(\"{:.3f}\".format(err_lst[3])), 'CNN':float(\"{:.3f}\".format(err_lst[4])), 'simpleRNN':float(\"{:.3f}\".format(err_lst[0])), 'GRU':float(\"{:.3f}\".format(err_lst[1])), 'LSTM':float(\"{:.3f}\".format(err_lst[2]))}\n",
    "    return dict"
   ]
  },
  {
   "cell_type": "code",
   "execution_count": null,
   "metadata": {},
   "outputs": [],
   "source": []
  },
  {
   "cell_type": "code",
   "execution_count": 35,
   "metadata": {},
   "outputs": [
    {
     "name": "stdout",
     "output_type": "stream",
     "text": [
      "{'cell05': {'DNN': 0.004, 'CNN': 0.003, 'simpleRNN': 0.002, 'GRU': 0.004, 'LSTM': 0.005}, 'cell06': {'DNN': 0.005, 'CNN': 0.003, 'simpleRNN': 0.003, 'GRU': 0.004, 'LSTM': 0.005}, 'cell07': {'DNN': 0.004, 'CNN': 0.002, 'simpleRNN': 0.003, 'GRU': 0.003, 'LSTM': 0.004}, 'cell18': {'DNN': 0.006, 'CNN': 0.003, 'simpleRNN': 0.003, 'GRU': 0.003, 'LSTM': 0.004}, 'cell53': {'DNN': 0.009, 'CNN': 0.006, 'simpleRNN': 0.009, 'GRU': 0.01, 'LSTM': 0.013}, 'cell54': {'DNN': 0.009, 'CNN': 0.005, 'simpleRNN': 0.007, 'GRU': 0.007, 'LSTM': 0.008}, 'cell55': {'DNN': 0.006, 'CNN': 0.005, 'simpleRNN': 0.006, 'GRU': 0.006, 'LSTM': 0.006}, 'cell56': {'DNN': 0.01, 'CNN': 0.005, 'simpleRNN': 0.008, 'GRU': 0.008, 'LSTM': 0.01}}\n"
     ]
    }
   ],
   "source": [
    "dict = {}\n",
    "dict['cell05']=mae_error(np.array(data05, dtype=float),np.array(y05, dtype=float))\n",
    "dict['cell06']=mae_error(np.array(data06, dtype=float),np.array(y06, dtype=float))\n",
    "dict['cell07']=mae_error(np.array(data07, dtype=float),np.array(y07, dtype=float))\n",
    "dict['cell18']=mae_error(np.array(data18, dtype=float),np.array(y18, dtype=float))\n",
    "dict['cell53']=mae_error(np.array(data53, dtype=float),np.array(y53, dtype=float))\n",
    "dict['cell54']=mae_error(np.array(data54, dtype=float),np.array(y54, dtype=float))\n",
    "dict['cell55']=mae_error(np.array(data55, dtype=float),np.array(y55, dtype=float))\n",
    "dict['cell56']=mae_error(np.array(data56, dtype=float),np.array(y56, dtype=float))\n",
    "print(dict)\n",
    "\n",
    "\n",
    "import pickle\n",
    "\n",
    "a_file = open(\"data.pkl\", \"wb\")\n",
    "pickle.dump(dict, a_file)\n",
    "a_file.close()"
   ]
  },
  {
   "cell_type": "code",
   "execution_count": 39,
   "metadata": {},
   "outputs": [],
   "source": [
    "def r_square_error(data, y):\n",
    "    sim_rnn = model_simpleRNN.predict(data)\n",
    "    dnn_d = model_dnn.predict(np.reshape(data, (data.shape[0],data.shape[1]*data.shape[2])))\n",
    "    lstm_d = model_lstm.predict(data)\n",
    "    gru_d = model_gru.predict(data)\n",
    "    cnn_d = model_cnn.predict(data)\n",
    "    err = np.array((r_square(sim_rnn, y)))\n",
    "    err = np.append(err,np.array((r_square(gru_d, y))))\n",
    "    err = np.append(err,np.array((r_square(lstm_d, y))))\n",
    "    err = np.append(err,np.array((r_square(dnn_d, y))))\n",
    "    err = np.append(err,np.array((r_square(cnn_d, y))))\n",
    "    err_lst = err.tolist()\n",
    "    dict = {'DNN':float(\"{:.3f}\".format(err_lst[3])), 'CNN':float(\"{:.3f}\".format(err_lst[4])), 'simpleRNN':float(\"{:.3f}\".format(err_lst[0])), 'GRU':float(\"{:.3f}\".format(err_lst[1])), 'LSTM':float(\"{:.3f}\".format(err_lst[2]))}\n",
    "    return dict"
   ]
  },
  {
   "cell_type": "code",
   "execution_count": 40,
   "metadata": {},
   "outputs": [
    {
     "ename": "TypeError",
     "evalue": "x and y must have the same dtype, got tf.float64 != tf.float32",
     "output_type": "error",
     "traceback": [
      "\u001b[1;31m---------------------------------------------------------------------------\u001b[0m",
      "\u001b[1;31mValueError\u001b[0m                                Traceback (most recent call last)",
      "\u001b[1;32m~\\anaconda3\\envs\\tensorflow\\lib\\site-packages\\tensorflow\\python\\ops\\math_ops.py\u001b[0m in \u001b[0;36mbinary_op_wrapper\u001b[1;34m(x, y)\u001b[0m\n\u001b[0;32m   1377\u001b[0m             \u001b[0mr_op\u001b[0m \u001b[1;33m=\u001b[0m \u001b[0mgetattr\u001b[0m\u001b[1;33m(\u001b[0m\u001b[0my\u001b[0m\u001b[1;33m,\u001b[0m \u001b[1;34m\"__r%s__\"\u001b[0m \u001b[1;33m%\u001b[0m \u001b[0mop_name\u001b[0m\u001b[1;33m)\u001b[0m\u001b[1;33m\u001b[0m\u001b[1;33m\u001b[0m\u001b[0m\n\u001b[1;32m-> 1378\u001b[1;33m             \u001b[0mout\u001b[0m \u001b[1;33m=\u001b[0m \u001b[0mr_op\u001b[0m\u001b[1;33m(\u001b[0m\u001b[0mx\u001b[0m\u001b[1;33m)\u001b[0m\u001b[1;33m\u001b[0m\u001b[1;33m\u001b[0m\u001b[0m\n\u001b[0m\u001b[0;32m   1379\u001b[0m             \u001b[1;32mif\u001b[0m \u001b[0mout\u001b[0m \u001b[1;32mis\u001b[0m \u001b[0mNotImplemented\u001b[0m\u001b[1;33m:\u001b[0m\u001b[1;33m\u001b[0m\u001b[1;33m\u001b[0m\u001b[0m\n",
      "\u001b[1;32m~\\anaconda3\\envs\\tensorflow\\lib\\site-packages\\tensorflow\\python\\ops\\math_ops.py\u001b[0m in \u001b[0;36mr_binary_op_wrapper\u001b[1;34m(y, x)\u001b[0m\n\u001b[0;32m   1398\u001b[0m       \u001b[1;31m#   r_binary_op_wrapper use different force_same_dtype values.\u001b[0m\u001b[1;33m\u001b[0m\u001b[1;33m\u001b[0m\u001b[0m\n\u001b[1;32m-> 1399\u001b[1;33m       \u001b[0my\u001b[0m\u001b[1;33m,\u001b[0m \u001b[0mx\u001b[0m \u001b[1;33m=\u001b[0m \u001b[0mmaybe_promote_tensors\u001b[0m\u001b[1;33m(\u001b[0m\u001b[0my\u001b[0m\u001b[1;33m,\u001b[0m \u001b[0mx\u001b[0m\u001b[1;33m)\u001b[0m\u001b[1;33m\u001b[0m\u001b[1;33m\u001b[0m\u001b[0m\n\u001b[0m\u001b[0;32m   1400\u001b[0m       \u001b[1;32mreturn\u001b[0m \u001b[0mfunc\u001b[0m\u001b[1;33m(\u001b[0m\u001b[0mx\u001b[0m\u001b[1;33m,\u001b[0m \u001b[0my\u001b[0m\u001b[1;33m,\u001b[0m \u001b[0mname\u001b[0m\u001b[1;33m=\u001b[0m\u001b[0mname\u001b[0m\u001b[1;33m)\u001b[0m\u001b[1;33m\u001b[0m\u001b[1;33m\u001b[0m\u001b[0m\n",
      "\u001b[1;32m~\\anaconda3\\envs\\tensorflow\\lib\\site-packages\\tensorflow\\python\\ops\\math_ops.py\u001b[0m in \u001b[0;36mmaybe_promote_tensors\u001b[1;34m(force_same_dtype, *tensors)\u001b[0m\n\u001b[0;32m   1334\u001b[0m       promoted_tensors.append(\n\u001b[1;32m-> 1335\u001b[1;33m           ops.convert_to_tensor(tensor, dtype, name=\"x\"))\n\u001b[0m\u001b[0;32m   1336\u001b[0m     \u001b[1;32mreturn\u001b[0m \u001b[0mpromoted_tensors\u001b[0m\u001b[1;33m\u001b[0m\u001b[1;33m\u001b[0m\u001b[0m\n",
      "\u001b[1;32m~\\anaconda3\\envs\\tensorflow\\lib\\site-packages\\tensorflow\\python\\profiler\\trace.py\u001b[0m in \u001b[0;36mwrapped\u001b[1;34m(*args, **kwargs)\u001b[0m\n\u001b[0;32m    162\u001b[0m           \u001b[1;32mreturn\u001b[0m \u001b[0mfunc\u001b[0m\u001b[1;33m(\u001b[0m\u001b[1;33m*\u001b[0m\u001b[0margs\u001b[0m\u001b[1;33m,\u001b[0m \u001b[1;33m**\u001b[0m\u001b[0mkwargs\u001b[0m\u001b[1;33m)\u001b[0m\u001b[1;33m\u001b[0m\u001b[1;33m\u001b[0m\u001b[0m\n\u001b[1;32m--> 163\u001b[1;33m       \u001b[1;32mreturn\u001b[0m \u001b[0mfunc\u001b[0m\u001b[1;33m(\u001b[0m\u001b[1;33m*\u001b[0m\u001b[0margs\u001b[0m\u001b[1;33m,\u001b[0m \u001b[1;33m**\u001b[0m\u001b[0mkwargs\u001b[0m\u001b[1;33m)\u001b[0m\u001b[1;33m\u001b[0m\u001b[1;33m\u001b[0m\u001b[0m\n\u001b[0m\u001b[0;32m    164\u001b[0m \u001b[1;33m\u001b[0m\u001b[0m\n",
      "\u001b[1;32m~\\anaconda3\\envs\\tensorflow\\lib\\site-packages\\tensorflow\\python\\framework\\ops.py\u001b[0m in \u001b[0;36mconvert_to_tensor\u001b[1;34m(value, dtype, name, as_ref, preferred_dtype, dtype_hint, ctx, accepted_result_types)\u001b[0m\n\u001b[0;32m   1532\u001b[0m     \u001b[1;32mif\u001b[0m \u001b[0mdtype\u001b[0m \u001b[1;32mis\u001b[0m \u001b[1;32mnot\u001b[0m \u001b[1;32mNone\u001b[0m \u001b[1;32mand\u001b[0m \u001b[1;32mnot\u001b[0m \u001b[0mdtype\u001b[0m\u001b[1;33m.\u001b[0m\u001b[0mis_compatible_with\u001b[0m\u001b[1;33m(\u001b[0m\u001b[0mvalue\u001b[0m\u001b[1;33m.\u001b[0m\u001b[0mdtype\u001b[0m\u001b[1;33m)\u001b[0m\u001b[1;33m:\u001b[0m\u001b[1;33m\u001b[0m\u001b[1;33m\u001b[0m\u001b[0m\n\u001b[1;32m-> 1533\u001b[1;33m       raise ValueError(\n\u001b[0m\u001b[0;32m   1534\u001b[0m           \u001b[1;34m\"Tensor conversion requested dtype %s for Tensor with dtype %s: %r\"\u001b[0m \u001b[1;33m%\u001b[0m\u001b[1;33m\u001b[0m\u001b[1;33m\u001b[0m\u001b[0m\n",
      "\u001b[1;31mValueError\u001b[0m: Tensor conversion requested dtype float32 for Tensor with dtype float64: <tf.Tensor: shape=(), dtype=float64, numpy=0.0014382568435676304>",
      "\nDuring handling of the above exception, another exception occurred:\n",
      "\u001b[1;31mTypeError\u001b[0m                                 Traceback (most recent call last)",
      "\u001b[1;32m~\\AppData\\Local\\Temp/ipykernel_13716/3880990058.py\u001b[0m in \u001b[0;36m<module>\u001b[1;34m\u001b[0m\n\u001b[0;32m      1\u001b[0m \u001b[0mdict\u001b[0m \u001b[1;33m=\u001b[0m \u001b[1;33m{\u001b[0m\u001b[1;33m}\u001b[0m\u001b[1;33m\u001b[0m\u001b[1;33m\u001b[0m\u001b[0m\n\u001b[1;32m----> 2\u001b[1;33m \u001b[0mdict\u001b[0m\u001b[1;33m[\u001b[0m\u001b[1;34m'cell05'\u001b[0m\u001b[1;33m]\u001b[0m\u001b[1;33m=\u001b[0m\u001b[0mr_square_error\u001b[0m\u001b[1;33m(\u001b[0m\u001b[0mnp\u001b[0m\u001b[1;33m.\u001b[0m\u001b[0marray\u001b[0m\u001b[1;33m(\u001b[0m\u001b[0mdata05\u001b[0m\u001b[1;33m,\u001b[0m \u001b[0mdtype\u001b[0m\u001b[1;33m=\u001b[0m\u001b[0mfloat\u001b[0m\u001b[1;33m)\u001b[0m\u001b[1;33m,\u001b[0m\u001b[0mnp\u001b[0m\u001b[1;33m.\u001b[0m\u001b[0marray\u001b[0m\u001b[1;33m(\u001b[0m\u001b[0my05\u001b[0m\u001b[1;33m,\u001b[0m \u001b[0mdtype\u001b[0m\u001b[1;33m=\u001b[0m\u001b[0mfloat\u001b[0m\u001b[1;33m)\u001b[0m\u001b[1;33m)\u001b[0m\u001b[1;33m\u001b[0m\u001b[1;33m\u001b[0m\u001b[0m\n\u001b[0m\u001b[0;32m      3\u001b[0m \u001b[0mdict\u001b[0m\u001b[1;33m[\u001b[0m\u001b[1;34m'cell06'\u001b[0m\u001b[1;33m]\u001b[0m\u001b[1;33m=\u001b[0m\u001b[0mr_square_error\u001b[0m\u001b[1;33m(\u001b[0m\u001b[0mnp\u001b[0m\u001b[1;33m.\u001b[0m\u001b[0marray\u001b[0m\u001b[1;33m(\u001b[0m\u001b[0mdata06\u001b[0m\u001b[1;33m,\u001b[0m \u001b[0mdtype\u001b[0m\u001b[1;33m=\u001b[0m\u001b[0mfloat\u001b[0m\u001b[1;33m)\u001b[0m\u001b[1;33m,\u001b[0m\u001b[0mnp\u001b[0m\u001b[1;33m.\u001b[0m\u001b[0marray\u001b[0m\u001b[1;33m(\u001b[0m\u001b[0my06\u001b[0m\u001b[1;33m,\u001b[0m \u001b[0mdtype\u001b[0m\u001b[1;33m=\u001b[0m\u001b[0mfloat\u001b[0m\u001b[1;33m)\u001b[0m\u001b[1;33m)\u001b[0m\u001b[1;33m\u001b[0m\u001b[1;33m\u001b[0m\u001b[0m\n\u001b[0;32m      4\u001b[0m \u001b[0mdict\u001b[0m\u001b[1;33m[\u001b[0m\u001b[1;34m'cell07'\u001b[0m\u001b[1;33m]\u001b[0m\u001b[1;33m=\u001b[0m\u001b[0mr_square_error\u001b[0m\u001b[1;33m(\u001b[0m\u001b[0mnp\u001b[0m\u001b[1;33m.\u001b[0m\u001b[0marray\u001b[0m\u001b[1;33m(\u001b[0m\u001b[0mdata07\u001b[0m\u001b[1;33m,\u001b[0m \u001b[0mdtype\u001b[0m\u001b[1;33m=\u001b[0m\u001b[0mfloat\u001b[0m\u001b[1;33m)\u001b[0m\u001b[1;33m,\u001b[0m\u001b[0mnp\u001b[0m\u001b[1;33m.\u001b[0m\u001b[0marray\u001b[0m\u001b[1;33m(\u001b[0m\u001b[0my07\u001b[0m\u001b[1;33m,\u001b[0m \u001b[0mdtype\u001b[0m\u001b[1;33m=\u001b[0m\u001b[0mfloat\u001b[0m\u001b[1;33m)\u001b[0m\u001b[1;33m)\u001b[0m\u001b[1;33m\u001b[0m\u001b[1;33m\u001b[0m\u001b[0m\n\u001b[0;32m      5\u001b[0m \u001b[0mdict\u001b[0m\u001b[1;33m[\u001b[0m\u001b[1;34m'cell18'\u001b[0m\u001b[1;33m]\u001b[0m\u001b[1;33m=\u001b[0m\u001b[0mr_square_error\u001b[0m\u001b[1;33m(\u001b[0m\u001b[0mnp\u001b[0m\u001b[1;33m.\u001b[0m\u001b[0marray\u001b[0m\u001b[1;33m(\u001b[0m\u001b[0mdata18\u001b[0m\u001b[1;33m,\u001b[0m \u001b[0mdtype\u001b[0m\u001b[1;33m=\u001b[0m\u001b[0mfloat\u001b[0m\u001b[1;33m)\u001b[0m\u001b[1;33m,\u001b[0m\u001b[0mnp\u001b[0m\u001b[1;33m.\u001b[0m\u001b[0marray\u001b[0m\u001b[1;33m(\u001b[0m\u001b[0my18\u001b[0m\u001b[1;33m,\u001b[0m \u001b[0mdtype\u001b[0m\u001b[1;33m=\u001b[0m\u001b[0mfloat\u001b[0m\u001b[1;33m)\u001b[0m\u001b[1;33m)\u001b[0m\u001b[1;33m\u001b[0m\u001b[1;33m\u001b[0m\u001b[0m\n",
      "\u001b[1;32m~\\AppData\\Local\\Temp/ipykernel_13716/2370116032.py\u001b[0m in \u001b[0;36mr_square_error\u001b[1;34m(data, y)\u001b[0m\n\u001b[0;32m      5\u001b[0m     \u001b[0mgru_d\u001b[0m \u001b[1;33m=\u001b[0m \u001b[0mmodel_gru\u001b[0m\u001b[1;33m.\u001b[0m\u001b[0mpredict\u001b[0m\u001b[1;33m(\u001b[0m\u001b[0mdata\u001b[0m\u001b[1;33m)\u001b[0m\u001b[1;33m\u001b[0m\u001b[1;33m\u001b[0m\u001b[0m\n\u001b[0;32m      6\u001b[0m     \u001b[0mcnn_d\u001b[0m \u001b[1;33m=\u001b[0m \u001b[0mmodel_cnn\u001b[0m\u001b[1;33m.\u001b[0m\u001b[0mpredict\u001b[0m\u001b[1;33m(\u001b[0m\u001b[0mdata\u001b[0m\u001b[1;33m)\u001b[0m\u001b[1;33m\u001b[0m\u001b[1;33m\u001b[0m\u001b[0m\n\u001b[1;32m----> 7\u001b[1;33m     \u001b[0merr\u001b[0m \u001b[1;33m=\u001b[0m \u001b[0mnp\u001b[0m\u001b[1;33m.\u001b[0m\u001b[0marray\u001b[0m\u001b[1;33m(\u001b[0m\u001b[1;33m(\u001b[0m\u001b[0mr_square\u001b[0m\u001b[1;33m(\u001b[0m\u001b[0msim_rnn\u001b[0m\u001b[1;33m,\u001b[0m \u001b[0my\u001b[0m\u001b[1;33m)\u001b[0m\u001b[1;33m)\u001b[0m\u001b[1;33m)\u001b[0m\u001b[1;33m\u001b[0m\u001b[1;33m\u001b[0m\u001b[0m\n\u001b[0m\u001b[0;32m      8\u001b[0m     \u001b[0merr\u001b[0m \u001b[1;33m=\u001b[0m \u001b[0mnp\u001b[0m\u001b[1;33m.\u001b[0m\u001b[0mappend\u001b[0m\u001b[1;33m(\u001b[0m\u001b[0merr\u001b[0m\u001b[1;33m,\u001b[0m\u001b[0mnp\u001b[0m\u001b[1;33m.\u001b[0m\u001b[0marray\u001b[0m\u001b[1;33m(\u001b[0m\u001b[1;33m(\u001b[0m\u001b[0mr_square\u001b[0m\u001b[1;33m(\u001b[0m\u001b[0mgru_d\u001b[0m\u001b[1;33m,\u001b[0m \u001b[0my\u001b[0m\u001b[1;33m)\u001b[0m\u001b[1;33m)\u001b[0m\u001b[1;33m)\u001b[0m\u001b[1;33m)\u001b[0m\u001b[1;33m\u001b[0m\u001b[1;33m\u001b[0m\u001b[0m\n\u001b[0;32m      9\u001b[0m     \u001b[0merr\u001b[0m \u001b[1;33m=\u001b[0m \u001b[0mnp\u001b[0m\u001b[1;33m.\u001b[0m\u001b[0mappend\u001b[0m\u001b[1;33m(\u001b[0m\u001b[0merr\u001b[0m\u001b[1;33m,\u001b[0m\u001b[0mnp\u001b[0m\u001b[1;33m.\u001b[0m\u001b[0marray\u001b[0m\u001b[1;33m(\u001b[0m\u001b[1;33m(\u001b[0m\u001b[0mr_square\u001b[0m\u001b[1;33m(\u001b[0m\u001b[0mlstm_d\u001b[0m\u001b[1;33m,\u001b[0m \u001b[0my\u001b[0m\u001b[1;33m)\u001b[0m\u001b[1;33m)\u001b[0m\u001b[1;33m)\u001b[0m\u001b[1;33m)\u001b[0m\u001b[1;33m\u001b[0m\u001b[1;33m\u001b[0m\u001b[0m\n",
      "\u001b[1;32m~\\AppData\\Local\\Temp/ipykernel_13716/980026373.py\u001b[0m in \u001b[0;36mr_square\u001b[1;34m(y_true, y_pred)\u001b[0m\n\u001b[0;32m      8\u001b[0m     \u001b[0msse\u001b[0m \u001b[1;33m=\u001b[0m \u001b[0mK\u001b[0m\u001b[1;33m.\u001b[0m\u001b[0msum\u001b[0m\u001b[1;33m(\u001b[0m\u001b[0mK\u001b[0m\u001b[1;33m.\u001b[0m\u001b[0msquare\u001b[0m\u001b[1;33m(\u001b[0m\u001b[0my_true\u001b[0m\u001b[1;33m-\u001b[0m\u001b[0my_pred\u001b[0m\u001b[1;33m)\u001b[0m\u001b[1;33m)\u001b[0m\u001b[1;33m\u001b[0m\u001b[1;33m\u001b[0m\u001b[0m\n\u001b[0;32m      9\u001b[0m     \u001b[0mtss\u001b[0m \u001b[1;33m=\u001b[0m \u001b[0mK\u001b[0m\u001b[1;33m.\u001b[0m\u001b[0msum\u001b[0m\u001b[1;33m(\u001b[0m\u001b[0mK\u001b[0m\u001b[1;33m.\u001b[0m\u001b[0msquare\u001b[0m\u001b[1;33m(\u001b[0m\u001b[0my_true\u001b[0m \u001b[1;33m-\u001b[0m \u001b[0mK\u001b[0m\u001b[1;33m.\u001b[0m\u001b[0msum\u001b[0m\u001b[1;33m(\u001b[0m\u001b[0my_true\u001b[0m\u001b[1;33m)\u001b[0m\u001b[1;33m/\u001b[0m\u001b[0mlen\u001b[0m\u001b[1;33m(\u001b[0m\u001b[0my_true\u001b[0m\u001b[1;33m)\u001b[0m\u001b[1;33m)\u001b[0m\u001b[1;33m)\u001b[0m\u001b[1;33m\u001b[0m\u001b[1;33m\u001b[0m\u001b[0m\n\u001b[1;32m---> 10\u001b[1;33m     \u001b[1;32mreturn\u001b[0m \u001b[1;33m(\u001b[0m\u001b[0msse\u001b[0m\u001b[1;33m/\u001b[0m\u001b[0mtss\u001b[0m\u001b[1;33m)\u001b[0m\u001b[1;33m\u001b[0m\u001b[1;33m\u001b[0m\u001b[0m\n\u001b[0m",
      "\u001b[1;32m~\\anaconda3\\envs\\tensorflow\\lib\\site-packages\\tensorflow\\python\\ops\\math_ops.py\u001b[0m in \u001b[0;36mbinary_op_wrapper\u001b[1;34m(x, y)\u001b[0m\n\u001b[0;32m   1381\u001b[0m             \u001b[1;32mreturn\u001b[0m \u001b[0mout\u001b[0m\u001b[1;33m\u001b[0m\u001b[1;33m\u001b[0m\u001b[0m\n\u001b[0;32m   1382\u001b[0m           \u001b[1;32mexcept\u001b[0m \u001b[1;33m(\u001b[0m\u001b[0mTypeError\u001b[0m\u001b[1;33m,\u001b[0m \u001b[0mValueError\u001b[0m\u001b[1;33m)\u001b[0m\u001b[1;33m:\u001b[0m\u001b[1;33m\u001b[0m\u001b[1;33m\u001b[0m\u001b[0m\n\u001b[1;32m-> 1383\u001b[1;33m             \u001b[1;32mraise\u001b[0m \u001b[0me\u001b[0m\u001b[1;33m\u001b[0m\u001b[1;33m\u001b[0m\u001b[0m\n\u001b[0m\u001b[0;32m   1384\u001b[0m         \u001b[1;32melse\u001b[0m\u001b[1;33m:\u001b[0m\u001b[1;33m\u001b[0m\u001b[1;33m\u001b[0m\u001b[0m\n\u001b[0;32m   1385\u001b[0m           \u001b[1;32mraise\u001b[0m\u001b[1;33m\u001b[0m\u001b[1;33m\u001b[0m\u001b[0m\n",
      "\u001b[1;32m~\\anaconda3\\envs\\tensorflow\\lib\\site-packages\\tensorflow\\python\\ops\\math_ops.py\u001b[0m in \u001b[0;36mbinary_op_wrapper\u001b[1;34m(x, y)\u001b[0m\n\u001b[0;32m   1365\u001b[0m         \u001b[1;31m#   r_binary_op_wrapper use different force_same_dtype values.\u001b[0m\u001b[1;33m\u001b[0m\u001b[1;33m\u001b[0m\u001b[0m\n\u001b[0;32m   1366\u001b[0m         \u001b[0mx\u001b[0m\u001b[1;33m,\u001b[0m \u001b[0my\u001b[0m \u001b[1;33m=\u001b[0m \u001b[0mmaybe_promote_tensors\u001b[0m\u001b[1;33m(\u001b[0m\u001b[0mx\u001b[0m\u001b[1;33m,\u001b[0m \u001b[0my\u001b[0m\u001b[1;33m,\u001b[0m \u001b[0mforce_same_dtype\u001b[0m\u001b[1;33m=\u001b[0m\u001b[1;32mFalse\u001b[0m\u001b[1;33m)\u001b[0m\u001b[1;33m\u001b[0m\u001b[1;33m\u001b[0m\u001b[0m\n\u001b[1;32m-> 1367\u001b[1;33m         \u001b[1;32mreturn\u001b[0m \u001b[0mfunc\u001b[0m\u001b[1;33m(\u001b[0m\u001b[0mx\u001b[0m\u001b[1;33m,\u001b[0m \u001b[0my\u001b[0m\u001b[1;33m,\u001b[0m \u001b[0mname\u001b[0m\u001b[1;33m=\u001b[0m\u001b[0mname\u001b[0m\u001b[1;33m)\u001b[0m\u001b[1;33m\u001b[0m\u001b[1;33m\u001b[0m\u001b[0m\n\u001b[0m\u001b[0;32m   1368\u001b[0m       \u001b[1;32mexcept\u001b[0m \u001b[1;33m(\u001b[0m\u001b[0mTypeError\u001b[0m\u001b[1;33m,\u001b[0m \u001b[0mValueError\u001b[0m\u001b[1;33m)\u001b[0m \u001b[1;32mas\u001b[0m \u001b[0me\u001b[0m\u001b[1;33m:\u001b[0m\u001b[1;33m\u001b[0m\u001b[1;33m\u001b[0m\u001b[0m\n\u001b[0;32m   1369\u001b[0m         \u001b[1;31m# Even if dispatching the op failed, the RHS may be a tensor aware\u001b[0m\u001b[1;33m\u001b[0m\u001b[1;33m\u001b[0m\u001b[0m\n",
      "\u001b[1;32m~\\anaconda3\\envs\\tensorflow\\lib\\site-packages\\tensorflow\\python\\util\\dispatch.py\u001b[0m in \u001b[0;36mwrapper\u001b[1;34m(*args, **kwargs)\u001b[0m\n\u001b[0;32m    204\u001b[0m     \u001b[1;34m\"\"\"Call target, and fall back on dispatchers if there is a TypeError.\"\"\"\u001b[0m\u001b[1;33m\u001b[0m\u001b[1;33m\u001b[0m\u001b[0m\n\u001b[0;32m    205\u001b[0m     \u001b[1;32mtry\u001b[0m\u001b[1;33m:\u001b[0m\u001b[1;33m\u001b[0m\u001b[1;33m\u001b[0m\u001b[0m\n\u001b[1;32m--> 206\u001b[1;33m       \u001b[1;32mreturn\u001b[0m \u001b[0mtarget\u001b[0m\u001b[1;33m(\u001b[0m\u001b[1;33m*\u001b[0m\u001b[0margs\u001b[0m\u001b[1;33m,\u001b[0m \u001b[1;33m**\u001b[0m\u001b[0mkwargs\u001b[0m\u001b[1;33m)\u001b[0m\u001b[1;33m\u001b[0m\u001b[1;33m\u001b[0m\u001b[0m\n\u001b[0m\u001b[0;32m    207\u001b[0m     \u001b[1;32mexcept\u001b[0m \u001b[1;33m(\u001b[0m\u001b[0mTypeError\u001b[0m\u001b[1;33m,\u001b[0m \u001b[0mValueError\u001b[0m\u001b[1;33m)\u001b[0m\u001b[1;33m:\u001b[0m\u001b[1;33m\u001b[0m\u001b[1;33m\u001b[0m\u001b[0m\n\u001b[0;32m    208\u001b[0m       \u001b[1;31m# Note: convert_to_eager_tensor currently raises a ValueError, not a\u001b[0m\u001b[1;33m\u001b[0m\u001b[1;33m\u001b[0m\u001b[0m\n",
      "\u001b[1;32m~\\anaconda3\\envs\\tensorflow\\lib\\site-packages\\tensorflow\\python\\ops\\math_ops.py\u001b[0m in \u001b[0;36mtruediv\u001b[1;34m(x, y, name)\u001b[0m\n\u001b[0;32m   1541\u001b[0m     \u001b[0mTypeError\u001b[0m\u001b[1;33m:\u001b[0m \u001b[0mIf\u001b[0m\u001b[0;31m \u001b[0m\u001b[0;31m`\u001b[0m\u001b[0mx\u001b[0m\u001b[0;31m`\u001b[0m \u001b[1;32mand\u001b[0m\u001b[0;31m \u001b[0m\u001b[0;31m`\u001b[0m\u001b[0my\u001b[0m\u001b[0;31m`\u001b[0m \u001b[0mhave\u001b[0m \u001b[0mdifferent\u001b[0m \u001b[0mdtypes\u001b[0m\u001b[1;33m.\u001b[0m\u001b[1;33m\u001b[0m\u001b[1;33m\u001b[0m\u001b[0m\n\u001b[0;32m   1542\u001b[0m   \"\"\"\n\u001b[1;32m-> 1543\u001b[1;33m   \u001b[1;32mreturn\u001b[0m \u001b[0m_truediv_python3\u001b[0m\u001b[1;33m(\u001b[0m\u001b[0mx\u001b[0m\u001b[1;33m,\u001b[0m \u001b[0my\u001b[0m\u001b[1;33m,\u001b[0m \u001b[0mname\u001b[0m\u001b[1;33m)\u001b[0m\u001b[1;33m\u001b[0m\u001b[1;33m\u001b[0m\u001b[0m\n\u001b[0m\u001b[0;32m   1544\u001b[0m \u001b[1;33m\u001b[0m\u001b[0m\n\u001b[0;32m   1545\u001b[0m \u001b[1;33m\u001b[0m\u001b[0m\n",
      "\u001b[1;32m~\\anaconda3\\envs\\tensorflow\\lib\\site-packages\\tensorflow\\python\\ops\\math_ops.py\u001b[0m in \u001b[0;36m_truediv_python3\u001b[1;34m(x, y, name)\u001b[0m\n\u001b[0;32m   1471\u001b[0m     \u001b[0my_dtype\u001b[0m \u001b[1;33m=\u001b[0m \u001b[0my\u001b[0m\u001b[1;33m.\u001b[0m\u001b[0mdtype\u001b[0m\u001b[1;33m.\u001b[0m\u001b[0mbase_dtype\u001b[0m\u001b[1;33m\u001b[0m\u001b[1;33m\u001b[0m\u001b[0m\n\u001b[0;32m   1472\u001b[0m     \u001b[1;32mif\u001b[0m \u001b[0mx_dtype\u001b[0m \u001b[1;33m!=\u001b[0m \u001b[0my_dtype\u001b[0m\u001b[1;33m:\u001b[0m\u001b[1;33m\u001b[0m\u001b[1;33m\u001b[0m\u001b[0m\n\u001b[1;32m-> 1473\u001b[1;33m       raise TypeError(\"x and y must have the same dtype, got %r != %r\" %\n\u001b[0m\u001b[0;32m   1474\u001b[0m                       (x_dtype, y_dtype))\n\u001b[0;32m   1475\u001b[0m     \u001b[1;32mtry\u001b[0m\u001b[1;33m:\u001b[0m\u001b[1;33m\u001b[0m\u001b[1;33m\u001b[0m\u001b[0m\n",
      "\u001b[1;31mTypeError\u001b[0m: x and y must have the same dtype, got tf.float64 != tf.float32"
     ]
    }
   ],
   "source": [
    "dict = {}\n",
    "dict['cell05']=r_square_error(np.array(data05, dtype=float),np.array(y05, dtype=float))\n",
    "dict['cell06']=r_square_error(np.array(data06, dtype=float),np.array(y06, dtype=float))\n",
    "dict['cell07']=r_square_error(np.array(data07, dtype=float),np.array(y07, dtype=float))\n",
    "dict['cell18']=r_square_error(np.array(data18, dtype=float),np.array(y18, dtype=float))\n",
    "dict['cell53']=r_square_error(np.array(data53, dtype=float),np.array(y53, dtype=float))\n",
    "dict['cell54']=r_square_error(np.array(data54, dtype=float),np.array(y54, dtype=float))\n",
    "dict['cell55']=r_square_error(np.array(data55, dtype=float),np.array(y55, dtype=float))\n",
    "dict['cell56']=r_square_error(np.array(data56, dtype=float),np.array(y56, dtype=float))\n",
    "print(dict)\n",
    "\n",
    "\n",
    "import pickle\n",
    "\n",
    "a_file = open(\"data.pkl\", \"wb\")\n",
    "pickle.dump(dict, a_file)\n",
    "a_file.close()"
   ]
  },
  {
   "cell_type": "code",
   "execution_count": null,
   "metadata": {},
   "outputs": [],
   "source": []
  }
 ],
 "metadata": {
  "interpreter": {
   "hash": "86165dc86ea16b1240e21bbfd0156d2f730219c78bbf121aa5948e60278fe413"
  },
  "kernelspec": {
   "display_name": "tensorflow",
   "language": "python",
   "name": "tensorflow"
  },
  "language_info": {
   "codemirror_mode": {
    "name": "ipython",
    "version": 3
   },
   "file_extension": ".py",
   "mimetype": "text/x-python",
   "name": "python",
   "nbconvert_exporter": "python",
   "pygments_lexer": "ipython3",
   "version": "3.9.7"
  }
 },
 "nbformat": 4,
 "nbformat_minor": 2
}
